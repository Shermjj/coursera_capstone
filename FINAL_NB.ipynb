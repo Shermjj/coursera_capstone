{
 "cells": [
  {
   "cell_type": "markdown",
   "metadata": {},
   "source": [
    "# Capstone project"
   ]
  },
  {
   "cell_type": "code",
   "execution_count": 1,
   "metadata": {},
   "outputs": [],
   "source": [
    "from bs4 import BeautifulSoup\n",
    "import requests\n",
    "import pandas as pd\n",
    "import numpy as np\n",
    "from geopy.geocoders import Nominatim\n",
    "import folium\n",
    "import geocoder \n",
    "import time\n",
    "import seaborn as sns\n",
    "\n",
    "CLIENT_ID = 'INSERT HERE' \n",
    "CLIENT_SECRET = 'INSERT HERE'"
   ]
  },
  {
   "cell_type": "markdown",
   "metadata": {},
   "source": [
    "## Table of contents\n",
    "* [Introduction](#introduction)\n",
    "* [Data](#data)\n",
    "* [Methodology](#methodology)\n",
    "* [Analysis](#analysis)\n",
    "* [Results and Discussion](#results)\n",
    "* [Conclusion](#conclusion)"
   ]
  },
  {
   "cell_type": "markdown",
   "metadata": {},
   "source": [
    "# Introduction <a name=\"introduction\"></a>"
   ]
  },
  {
   "cell_type": "markdown",
   "metadata": {},
   "source": [
    "In this project, we perform a multivariate analysis of a dataset consisting of socio-economic, geographical and COVID-19 data in the 33 areas of London (32 Boroughs + City of London). Thus, we attempt to provide a comprehensive description of the currently on-going COVID-19 epidemic taking into account the various differences between boroughs. This analysis has relevance towards both retail businesses, who must decide on store openings in multiple regions facing heterogenous conditions, and for policy-makers, who similarly are faced with such issues when deciding on policy imlementation.\n",
    "\n",
    "In the multivariate analysis, we will perform both cluster and factor analysis, which will be further explained in the relevant sections."
   ]
  },
  {
   "cell_type": "markdown",
   "metadata": {},
   "source": [
    "# Data "
   ]
  },
  {
   "cell_type": "markdown",
   "metadata": {},
   "source": [
    "Our final dataset will consists of the following variables : \n",
    "* Borough name and the statistical geography code as given by the ONS\n",
    "* **COVID-19 Data** from a single period: total cases, total deaths and the death rate\n",
    "* **Socio-Economic Data**: Population density (per HA, 2017), proportion of population aged 0-15 (2017), percentage of population from BAME groups (2016), Overseas nationals entering the UK (2015/16), modelled household median income estimates (2012/2013), median house price (2015), employment rate (2015)\n",
    "* **Geographical Data**: Coordinate of the borough centre (latitutde and longitude), number of hospitals within a 5000m radius from the city centre\n",
    "\n",
    "Giving a final dataset size of 33 rows x 15 columns\n",
    "\n"
   ]
  },
  {
   "cell_type": "markdown",
   "metadata": {},
   "source": [
    "Socio-economic data "
   ]
  },
  {
   "cell_type": "code",
   "execution_count": 2,
   "metadata": {},
   "outputs": [],
   "source": [
    "df = pd.read_csv(\"london-borough-profiles.csv\",encoding= 'unicode_escape')\n",
    "df.drop(df.tail(5).index,inplace=True) "
   ]
  },
  {
   "cell_type": "code",
   "execution_count": 3,
   "metadata": {
    "scrolled": true
   },
   "outputs": [],
   "source": [
    "varInterest = ['Code','Area_name','Population_density_(per_hectare)_2017','Proportion_of_population_aged_0-15,_2015','%_of_population_from_BAME_groups_(2016)','Overseas_nationals_entering_the_UK_(NINo),_(2015/16)','Modelled_Household_median_income_estimates_2012/13','Median_House_Price,_2015','Employment_rate_(%)_(2015)']\n",
    "df = df[varInterest]\n",
    "df['Modelled_Household_median_income_estimates_2012/13'] = df['Modelled_Household_median_income_estimates_2012/13'].str.replace(',', '').str.replace('£', '').astype(int)"
   ]
  },
  {
   "cell_type": "markdown",
   "metadata": {},
   "source": [
    "Obtaining geographical coordinates of the different boroughs"
   ]
  },
  {
   "cell_type": "code",
   "execution_count": 4,
   "metadata": {
    "scrolled": true
   },
   "outputs": [],
   "source": [
    "from pykml import parser\n",
    "filename='doc.kml'\n",
    "with open(filename) as f:\n",
    "    folder = parser.parse(f).getroot().Document.Folder\n",
    "\n",
    "plnm=[]\n",
    "cordi=[]\n",
    "for pm in folder.Placemark:\n",
    "    plnm1=pm.name\n",
    "    plcs1=pm.Point.coordinates\n",
    "    plnm.append(plnm1.text)\n",
    "    cordi.append(plcs1.text)\n",
    "    \n",
    "db=pd.DataFrame()\n",
    "db['place_name']=plnm\n",
    "db['cordinates']=cordi\n",
    "\n",
    "def dump(obj):\n",
    "    for attr in dir(obj):\n",
    "        if hasattr( obj, attr ):\n",
    "            print( \"obj.%s = %s\" % (attr, getattr(obj, attr)))\n",
    "#the kml output plnm1 and plcs1 are objects actually which can be viewed using the dump function from [SO](https://blender.stackexchange.com/questions/1879/is-it-possible-to-dump-an-objects-properties-and-methods)\n",
    "\n",
    "db['Longitude'], db['Latitude'],db['value'] = zip(*db['cordinates'].apply(lambda x: x.split(',', 2)))\n",
    "\n",
    "db.loc[-1] = ['City of London','-0.0922,51.5155,0','-0.0922','51.5155','0']\n",
    "db.index = db.index + 1  \n",
    "db.sort_index(inplace=True) \n"
   ]
  },
  {
   "cell_type": "code",
   "execution_count": 5,
   "metadata": {
    "scrolled": true
   },
   "outputs": [],
   "source": [
    "df['Latitude'] = db['Latitude']\n",
    "df['Longitude'] = db['Longitude']"
   ]
  },
  {
   "cell_type": "markdown",
   "metadata": {},
   "source": [
    "Map of London"
   ]
  },
  {
   "cell_type": "code",
   "execution_count": 6,
   "metadata": {},
   "outputs": [],
   "source": [
    "geolocator = Nominatim(user_agent=\"Mozilla/5.0 (Windows NT 10.0; Win64; x64) AppleWebKit/537.36 (KHTML, like Gecko) Chrome/81.0.4044.138 Safari/537.36\")\n",
    "location = geolocator.geocode('London, United Kingdom')\n",
    "latitude = location.latitude\n",
    "longitude = location.longitude\n",
    "map_ldn = folium.Map(location=[latitude, longitude], zoom_start=11)\n",
    "\n",
    "# add markers to map\n",
    "for lat, lng, neighborhood in zip(df['Latitude'], df['Longitude'], df['Area_name']):\n",
    "    label = '{}'.format(neighborhood)\n",
    "    label = folium.Popup(label, parse_html=True)\n",
    "    folium.CircleMarker(\n",
    "        [lat, lng],\n",
    "        radius=5,\n",
    "        popup=label,\n",
    "        color='blue',\n",
    "        fill=True,\n",
    "        fill_color='#3186cc',\n",
    "        fill_opacity=0.7).add_to(map_ldn)  "
   ]
  },
  {
   "cell_type": "markdown",
   "metadata": {},
   "source": [
    "Foursquare data (number of hospitals)"
   ]
  },
  {
   "cell_type": "code",
   "execution_count": 7,
   "metadata": {},
   "outputs": [],
   "source": [
    "def getNearbyVenues(names, latitudes, longitudes):\n",
    "    venues_list=[]\n",
    "    for name, lat, lon in zip(names, latitudes, longitudes):\n",
    "        url = 'https://api.foursquare.com/v2/venues/explore?&categoryId={}&client_id={}&client_secret={}&v={}&ll={},{}&radius={}'.format(\n",
    "            \"4bf58dd8d48988d196941735\",\n",
    "            CLIENT_ID, \n",
    "            CLIENT_SECRET, \n",
    "            \"20180323\", \n",
    "            lat, \n",
    "            lon, \n",
    "            10000\n",
    "            )\n",
    "        time.sleep(2)\n",
    "        results = requests.get(url).json()[\"response\"]['groups'][0]['items']\n",
    "        venues_list.append([(\n",
    "            name, \n",
    "            lat, \n",
    "            lon, \n",
    "            v['venue']['name'], \n",
    "            v['venue']['categories'][0]['name']) for v in results])\n",
    "\n",
    "    nearby_venues = pd.DataFrame([item for venue_list in venues_list for item in venue_list])\n",
    "    nearby_venues.columns = ['Neighbourhood', \n",
    "                  'Neighbourhood Latitude', \n",
    "                  'Neighbourhood Longitude', \n",
    "                  'Venue', \n",
    "                  'Venue Category']\n",
    "    \n",
    "    return(nearby_venues)\n",
    "\n",
    "venues = getNearbyVenues(names=df['Area_name'], latitudes=df['Latitude'],longitudes=df['Longitude'])"
   ]
  },
  {
   "cell_type": "code",
   "execution_count": 8,
   "metadata": {
    "scrolled": false
   },
   "outputs": [],
   "source": [
    "# one hot encoding\n",
    "venues_onehot = pd.get_dummies(venues[['Venue Category']], prefix=\"\", prefix_sep=\"\")\n",
    "\n",
    "# add neighborhood column back to dataframe\n",
    "venues_onehot.insert(0, 'Neighbourhood',venues['Neighbourhood'])\n",
    "\n",
    "ven_onehot_grouped = venues_onehot.groupby('Neighbourhood').count().reset_index()\n"
   ]
  },
  {
   "cell_type": "code",
   "execution_count": 9,
   "metadata": {},
   "outputs": [],
   "source": [
    "ven_onehot_grouped = ven_onehot_grouped[[\"Neighbourhood\",\"Hospital\"]]\n",
    "\n",
    "df_ven = ven_onehot_grouped"
   ]
  },
  {
   "cell_type": "markdown",
   "metadata": {},
   "source": [
    "COVID data"
   ]
  },
  {
   "cell_type": "code",
   "execution_count": 10,
   "metadata": {},
   "outputs": [],
   "source": [
    "df_case = pd.read_csv(\"covidcase.csv\")\n",
    "df_death =pd.read_csv(\"coviddeath.csv\")\n",
    "\n",
    "df_covid = df_case.merge(df_death,on=\"Code\").drop(\"Area_name;\",axis=1)"
   ]
  },
  {
   "cell_type": "markdown",
   "metadata": {},
   "source": [
    "Final Data Merging"
   ]
  },
  {
   "cell_type": "code",
   "execution_count": 11,
   "metadata": {},
   "outputs": [],
   "source": [
    "df_final= df_covid.merge(df,on=[\"Code\",\"Area_name\"]).merge(df_ven,left_on=\"Area_name\",right_on=\"Neighbourhood\").drop(\"Neighbourhood\",axis=1)"
   ]
  },
  {
   "cell_type": "markdown",
   "metadata": {},
   "source": [
    "Final Dataset"
   ]
  },
  {
   "cell_type": "code",
   "execution_count": 12,
   "metadata": {
    "scrolled": false
   },
   "outputs": [
    {
     "data": {
      "text/plain": [
       "(33, 15)"
      ]
     },
     "execution_count": 12,
     "metadata": {},
     "output_type": "execute_result"
    }
   ],
   "source": [
    "df_final.shape"
   ]
  },
  {
   "cell_type": "code",
   "execution_count": 13,
   "metadata": {},
   "outputs": [
    {
     "data": {
      "text/html": [
       "<div>\n",
       "<style scoped>\n",
       "    .dataframe tbody tr th:only-of-type {\n",
       "        vertical-align: middle;\n",
       "    }\n",
       "\n",
       "    .dataframe tbody tr th {\n",
       "        vertical-align: top;\n",
       "    }\n",
       "\n",
       "    .dataframe thead th {\n",
       "        text-align: right;\n",
       "    }\n",
       "</style>\n",
       "<table border=\"1\" class=\"dataframe\">\n",
       "  <thead>\n",
       "    <tr style=\"text-align: right;\">\n",
       "      <th></th>\n",
       "      <th>Area_name</th>\n",
       "      <th>Code</th>\n",
       "      <th>Total_case</th>\n",
       "      <th>Deaths_total</th>\n",
       "      <th>Deaths_rate</th>\n",
       "      <th>Population_density_(per_hectare)_2017</th>\n",
       "      <th>Proportion_of_population_aged_0-15,_2015</th>\n",
       "      <th>%_of_population_from_BAME_groups_(2016)</th>\n",
       "      <th>Overseas_nationals_entering_the_UK_(NINo),_(2015/16)</th>\n",
       "      <th>Modelled_Household_median_income_estimates_2012/13</th>\n",
       "      <th>Median_House_Price,_2015</th>\n",
       "      <th>Employment_rate_(%)_(2015)</th>\n",
       "      <th>Latitude</th>\n",
       "      <th>Longitude</th>\n",
       "      <th>Hospital</th>\n",
       "    </tr>\n",
       "  </thead>\n",
       "  <tbody>\n",
       "    <tr>\n",
       "      <th>0</th>\n",
       "      <td>Barking and Dagenham</td>\n",
       "      <td>E09000002</td>\n",
       "      <td>668</td>\n",
       "      <td>165</td>\n",
       "      <td>143.0</td>\n",
       "      <td>57.9</td>\n",
       "      <td>27.2</td>\n",
       "      <td>49.5</td>\n",
       "      <td>7,538</td>\n",
       "      <td>29420</td>\n",
       "      <td>243500</td>\n",
       "      <td>65.8</td>\n",
       "      <td>51.5607</td>\n",
       "      <td>0.1557</td>\n",
       "      <td>15</td>\n",
       "    </tr>\n",
       "    <tr>\n",
       "      <th>1</th>\n",
       "      <td>Barnet</td>\n",
       "      <td>E09000003</td>\n",
       "      <td>1543</td>\n",
       "      <td>453</td>\n",
       "      <td>139.7</td>\n",
       "      <td>44.9</td>\n",
       "      <td>21.1</td>\n",
       "      <td>38.7</td>\n",
       "      <td>13,094</td>\n",
       "      <td>40530</td>\n",
       "      <td>445000</td>\n",
       "      <td>68.5</td>\n",
       "      <td>51.6252</td>\n",
       "      <td>-0.1517</td>\n",
       "      <td>21</td>\n",
       "    </tr>\n",
       "    <tr>\n",
       "      <th>2</th>\n",
       "      <td>Bexley</td>\n",
       "      <td>E09000004</td>\n",
       "      <td>997</td>\n",
       "      <td>228</td>\n",
       "      <td>98.6</td>\n",
       "      <td>40.3</td>\n",
       "      <td>20.6</td>\n",
       "      <td>21.4</td>\n",
       "      <td>2,198</td>\n",
       "      <td>36990</td>\n",
       "      <td>275000</td>\n",
       "      <td>75.1</td>\n",
       "      <td>51.4549</td>\n",
       "      <td>0.1505</td>\n",
       "      <td>5</td>\n",
       "    </tr>\n",
       "    <tr>\n",
       "      <th>3</th>\n",
       "      <td>Brent</td>\n",
       "      <td>E09000005</td>\n",
       "      <td>1652</td>\n",
       "      <td>487</td>\n",
       "      <td>216.6</td>\n",
       "      <td>76.8</td>\n",
       "      <td>20.9</td>\n",
       "      <td>64.9</td>\n",
       "      <td>22,162</td>\n",
       "      <td>32140</td>\n",
       "      <td>407250</td>\n",
       "      <td>69.5</td>\n",
       "      <td>51.5588</td>\n",
       "      <td>-0.2817</td>\n",
       "      <td>30</td>\n",
       "    </tr>\n",
       "    <tr>\n",
       "      <th>4</th>\n",
       "      <td>Bromley</td>\n",
       "      <td>E09000006</td>\n",
       "      <td>1479</td>\n",
       "      <td>340</td>\n",
       "      <td>106.1</td>\n",
       "      <td>21.8</td>\n",
       "      <td>19.9</td>\n",
       "      <td>18.9</td>\n",
       "      <td>2,924</td>\n",
       "      <td>43060</td>\n",
       "      <td>374975</td>\n",
       "      <td>75.3</td>\n",
       "      <td>51.4039</td>\n",
       "      <td>0.0198</td>\n",
       "      <td>16</td>\n",
       "    </tr>\n",
       "  </tbody>\n",
       "</table>\n",
       "</div>"
      ],
      "text/plain": [
       "              Area_name       Code  Total_case  Deaths_total  Deaths_rate  \\\n",
       "0  Barking and Dagenham  E09000002         668           165        143.0   \n",
       "1                Barnet  E09000003        1543           453        139.7   \n",
       "2                Bexley  E09000004         997           228         98.6   \n",
       "3                 Brent  E09000005        1652           487        216.6   \n",
       "4               Bromley  E09000006        1479           340        106.1   \n",
       "\n",
       "  Population_density_(per_hectare)_2017  \\\n",
       "0                                  57.9   \n",
       "1                                  44.9   \n",
       "2                                  40.3   \n",
       "3                                  76.8   \n",
       "4                                  21.8   \n",
       "\n",
       "   Proportion_of_population_aged_0-15,_2015  \\\n",
       "0                                      27.2   \n",
       "1                                      21.1   \n",
       "2                                      20.6   \n",
       "3                                      20.9   \n",
       "4                                      19.9   \n",
       "\n",
       "  %_of_population_from_BAME_groups_(2016)  \\\n",
       "0                                    49.5   \n",
       "1                                    38.7   \n",
       "2                                    21.4   \n",
       "3                                    64.9   \n",
       "4                                    18.9   \n",
       "\n",
       "  Overseas_nationals_entering_the_UK_(NINo),_(2015/16)  \\\n",
       "0                                              7,538     \n",
       "1                                             13,094     \n",
       "2                                              2,198     \n",
       "3                                             22,162     \n",
       "4                                              2,924     \n",
       "\n",
       "   Modelled_Household_median_income_estimates_2012/13  \\\n",
       "0                                              29420    \n",
       "1                                              40530    \n",
       "2                                              36990    \n",
       "3                                              32140    \n",
       "4                                              43060    \n",
       "\n",
       "  Median_House_Price,_2015  Employment_rate_(%)_(2015) Latitude Longitude  \\\n",
       "0                   243500                        65.8  51.5607    0.1557   \n",
       "1                   445000                        68.5  51.6252   -0.1517   \n",
       "2                   275000                        75.1  51.4549    0.1505   \n",
       "3                   407250                        69.5  51.5588   -0.2817   \n",
       "4                   374975                        75.3  51.4039    0.0198   \n",
       "\n",
       "   Hospital  \n",
       "0        15  \n",
       "1        21  \n",
       "2         5  \n",
       "3        30  \n",
       "4        16  "
      ]
     },
     "execution_count": 13,
     "metadata": {},
     "output_type": "execute_result"
    }
   ],
   "source": [
    "df_final.head()"
   ]
  },
  {
   "cell_type": "markdown",
   "metadata": {},
   "source": [
    "Map of london and the boroughs"
   ]
  },
  {
   "cell_type": "code",
   "execution_count": 14,
   "metadata": {},
   "outputs": [
    {
     "data": {
      "text/html": [
       "<div style=\"width:100%;\"><div style=\"position:relative;width:100%;height:0;padding-bottom:60%;\"><span style=\"color:#565656\">Make this Notebook Trusted to load map: File -> Trust Notebook</span><iframe src=\"about:blank\" style=\"position:absolute;width:100%;height:100%;left:0;top:0;border:none !important;\" data-html=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 onload=\"this.contentDocument.open();this.contentDocument.write(atob(this.getAttribute('data-html')));this.contentDocument.close();\" allowfullscreen webkitallowfullscreen mozallowfullscreen></iframe></div></div>"
      ],
      "text/plain": [
       "<folium.folium.Map at 0x7fa80a977cd0>"
      ]
     },
     "execution_count": 14,
     "metadata": {},
     "output_type": "execute_result"
    }
   ],
   "source": [
    "map_ldn"
   ]
  },
  {
   "cell_type": "markdown",
   "metadata": {},
   "source": [
    "# Methodology <a name=\"methodology\"></a>"
   ]
  },
  {
   "cell_type": "markdown",
   "metadata": {},
   "source": [
    "We carry out our analysis in three parts. \n",
    "\n",
    "Firstly, we carry out exploratory data analysis, using a heatmap to look a possible correlations within the different variables in our dataset.\n",
    "\n",
    "Secondly, a non-hierarchical k-means clustering algorithm is used to group the given group data points into predefined clusters. We face two issues before implementation. Before we implement the algorithm, it is prudent to standardise the data, which we shall do using the Min-Max Scaler in the sklearn library. We also have to decide on the number of clusters used in the division of data. We will use an elbow data chart to aid us in a decision. \n",
    "\n",
    "Finally, factor analysis will be carried out. Before this is done, we need to verify the sampling adaquecy. We use both the Kaiser-Meyer-Olkin statistic and the Bartlett's test of sphericity. "
   ]
  },
  {
   "cell_type": "markdown",
   "metadata": {},
   "source": [
    "# Analysis <a name=\"analysis\"></a>"
   ]
  },
  {
   "cell_type": "markdown",
   "metadata": {},
   "source": [
    "As mentioned, we firstly carry out exploratory data analysis using a heatmap to identify possible correlations."
   ]
  },
  {
   "cell_type": "code",
   "execution_count": 15,
   "metadata": {},
   "outputs": [
    {
     "data": {
      "text/plain": [
       "<matplotlib.axes._subplots.AxesSubplot at 0x7fa800249c70>"
      ]
     },
     "execution_count": 15,
     "metadata": {},
     "output_type": "execute_result"
    },
    {
     "data": {
      "image/png": "[encoded data removed]",
      "text/plain": [
       "<Figure size 720x576 with 2 Axes>"
      ]
     },
     "metadata": {
      "needs_background": "light"
     },
     "output_type": "display_data"
    }
   ],
   "source": [
    "from sklearn.cluster import KMeans\n",
    "import matplotlib.pyplot as plt\n",
    "from sklearn.metrics import silhouette_score\n",
    "from sklearn.preprocessing import MinMaxScaler\n",
    "from sklearn.metrics import silhouette_score, davies_bouldin_score,v_measure_score\n",
    "\n",
    "df_features = df_final.drop([\"Area_name\",\"Code\",\"Longitude\",\"Latitude\"],axis=1)\n",
    "df_features[\"Overseas_nationals_entering_the_UK_(NINo),_(2015/16)\"] = df_features[\"Overseas_nationals_entering_the_UK_(NINo),_(2015/16)\"].str.replace(',', '')\n",
    "df_fa = df_features.copy()\n",
    "\n",
    "plt.figure(figsize=(10,8))\n",
    "corrMatrix = df_features.astype(float).corr()\n",
    "sns.heatmap(corrMatrix)"
   ]
  },
  {
   "cell_type": "markdown",
   "metadata": {},
   "source": [
    "Overall, we identify the following sets of correlations. As expected, economic indicators, such as median house price and median household income, are strongly negatively correlated with the various COVID-19 indicators. Hence, this correlation confirms our usual intuition that poorer regions are disproportionately affected by the pandemic. \n",
    "\n",
    "Similarly, social indicators, such as proportion of youths, percentage of BAME and number of overseas nationals are highly correlated with COVID-19 indicators. Interestingly, the population density seems to be negatively correlated with COVID-19 indicators."
   ]
  },
  {
   "cell_type": "markdown",
   "metadata": {},
   "source": [
    "Cluster Analysis\n",
    "\n",
    "Next, we carry out the k-means clustering algorithm. However, before that, we need to carry out the feature normalisation and the identifaction of the number of clusters to use.\n",
    "\n",
    "To identify the number of clusters, we use both the traditional elbow method and the Silhouette score."
   ]
  },
  {
   "cell_type": "code",
   "execution_count": 16,
   "metadata": {},
   "outputs": [],
   "source": [
    "features = MinMaxScaler().fit_transform(df_features)\n",
    "features_fa = features.copy()"
   ]
  },
  {
   "cell_type": "code",
   "execution_count": 17,
   "metadata": {
    "scrolled": false
   },
   "outputs": [
    {
     "data": {
      "image/png": "[encoded data removed]",
      "text/plain": [
       "<Figure size 432x288 with 1 Axes>"
      ]
     },
     "metadata": {
      "needs_background": "light"
     },
     "output_type": "display_data"
    }
   ],
   "source": [
    "km_silhouette = []\n",
    "km_scores = []\n",
    "for i in range(2,15):\n",
    "    km = KMeans(n_clusters=i, random_state=0).fit(features)\n",
    "    preds = km.predict(features)\n",
    "    \n",
    "    silhouette = silhouette_score(features,preds)\n",
    "    km_silhouette.append(silhouette)\n",
    "    km_scores.append(-km.score(features))\n",
    "    \n",
    "    \n",
    "plt.scatter(x=[i for i in range(2,15)],y=km_silhouette,s=150,edgecolor='k')\n",
    "plt.grid(True)\n",
    "plt.show()"
   ]
  },
  {
   "cell_type": "code",
   "execution_count": 18,
   "metadata": {},
   "outputs": [
    {
     "data": {
      "image/png": "[encoded data removed]",
      "text/plain": [
       "<Figure size 504x288 with 1 Axes>"
      ]
     },
     "metadata": {
      "needs_background": "light"
     },
     "output_type": "display_data"
    }
   ],
   "source": [
    "plt.figure(figsize=(7,4))\n",
    "plt.title(\"Elbow method\\n\",fontsize=16)\n",
    "plt.plot([i for i in range(2,15)],km_scores)\n",
    "plt.grid(True)\n",
    "plt.xlabel(\"Number of clusters\",fontsize=14)\n",
    "plt.ylabel(\"K-means score\",fontsize=15)\n",
    "plt.xticks([i for i in range(2,15)],fontsize=14)\n",
    "plt.yticks(fontsize=15)\n",
    "plt.show()"
   ]
  },
  {
   "cell_type": "markdown",
   "metadata": {},
   "source": [
    "Quite clearly, the elbow method and the Silhouette coefficient both indicate that k=9 is the optimal number of cluster. While the elbow method is less obvious, as it seems like k=4 could be a candidate as well, the silhouette coefficient optimality is clear as day. \n",
    "\n",
    "Given the low silouette coefficient, this indicates a possible weak structure in the data, thus motivating our usage of factor analysis in the next section.\n",
    "\n",
    "We continue on to carry out the algorithm with k=9."
   ]
  },
  {
   "cell_type": "code",
   "execution_count": 19,
   "metadata": {
    "scrolled": false
   },
   "outputs": [],
   "source": [
    "km = KMeans(n_clusters=9, init='random', n_init=1, max_iter=300, random_state=0)\n",
    "km.fit(features)\n",
    "df_final['classification'] = km.labels_.tolist()"
   ]
  },
  {
   "cell_type": "markdown",
   "metadata": {},
   "source": [
    "We provide a map showing the classification for each of the borough, as well as the borough in one particular cluster. "
   ]
  },
  {
   "cell_type": "code",
   "execution_count": 20,
   "metadata": {},
   "outputs": [
    {
     "data": {
      "text/html": [
       "<div style=\"width:100%;\"><div style=\"position:relative;width:100%;height:0;padding-bottom:60%;\"><span style=\"color:#565656\">Make this Notebook Trusted to load map: File -> Trust Notebook</span><iframe src=\"about:blank\" style=\"position:absolute;width:100%;height:100%;left:0;top:0;border:none !important;\" data-html=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 onload=\"this.contentDocument.open();this.contentDocument.write(atob(this.getAttribute('data-html')));this.contentDocument.close();\" allowfullscreen webkitallowfullscreen mozallowfullscreen></iframe></div></div>"
      ],
      "text/plain": [
       "<folium.folium.Map at 0x7fa7fe0f9a90>"
      ]
     },
     "execution_count": 20,
     "metadata": {},
     "output_type": "execute_result"
    }
   ],
   "source": [
    "import matplotlib.cm as cm\n",
    "import matplotlib.colors as colors\n",
    "from geopy.geocoders import Nominatim \n",
    "import folium\n",
    "\n",
    "\n",
    "map_clusters = folium.Map(location=[latitude, longitude], zoom_start=11)\n",
    "\n",
    "x = np.arange(9)\n",
    "ys = [i + x + (i*x)**2 for i in range(9)]\n",
    "colors_array = cm.rainbow(np.linspace(0, 1, len(ys)))\n",
    "rainbow = [colors.rgb2hex(i) for i in colors_array]\n",
    "for lat, lon, poi, cluster in zip(df_final['Latitude'], df_final['Longitude'], df_final['Area_name'], df_final['classification']):\n",
    "    folium.CircleMarker(\n",
    "        [lat, lon],\n",
    "        popup=folium.Popup(str(poi) + 'Cluster ' + str(int(cluster) +1)),\n",
    "        color=rainbow[int(cluster-1)],\n",
    "        fill=True,\n",
    "        fill_color=rainbow[int(cluster-1)]\n",
    "        ).add_to(map_clusters)\n",
    "        \n",
    "map_clusters"
   ]
  },
  {
   "cell_type": "code",
   "execution_count": 21,
   "metadata": {},
   "outputs": [
    {
     "data": {
      "text/html": [
       "<div>\n",
       "<style scoped>\n",
       "    .dataframe tbody tr th:only-of-type {\n",
       "        vertical-align: middle;\n",
       "    }\n",
       "\n",
       "    .dataframe tbody tr th {\n",
       "        vertical-align: top;\n",
       "    }\n",
       "\n",
       "    .dataframe thead th {\n",
       "        text-align: right;\n",
       "    }\n",
       "</style>\n",
       "<table border=\"1\" class=\"dataframe\">\n",
       "  <thead>\n",
       "    <tr style=\"text-align: right;\">\n",
       "      <th></th>\n",
       "      <th>Area_name</th>\n",
       "      <th>Code</th>\n",
       "      <th>Total_case</th>\n",
       "      <th>Deaths_total</th>\n",
       "      <th>Deaths_rate</th>\n",
       "      <th>Population_density_(per_hectare)_2017</th>\n",
       "      <th>Proportion_of_population_aged_0-15,_2015</th>\n",
       "      <th>%_of_population_from_BAME_groups_(2016)</th>\n",
       "      <th>Overseas_nationals_entering_the_UK_(NINo),_(2015/16)</th>\n",
       "      <th>Modelled_Household_median_income_estimates_2012/13</th>\n",
       "      <th>Median_House_Price,_2015</th>\n",
       "      <th>Employment_rate_(%)_(2015)</th>\n",
       "      <th>Latitude</th>\n",
       "      <th>Longitude</th>\n",
       "      <th>Hospital</th>\n",
       "      <th>classification</th>\n",
       "    </tr>\n",
       "  </thead>\n",
       "  <tbody>\n",
       "    <tr>\n",
       "      <th>18</th>\n",
       "      <td>Kensington and Chelsea</td>\n",
       "      <td>E09000020</td>\n",
       "      <td>533</td>\n",
       "      <td>124</td>\n",
       "      <td>95.2</td>\n",
       "      <td>131.1</td>\n",
       "      <td>16.4</td>\n",
       "      <td>30</td>\n",
       "      <td>7,237</td>\n",
       "      <td>55620</td>\n",
       "      <td>1200000</td>\n",
       "      <td>68.2</td>\n",
       "      <td>51.502</td>\n",
       "      <td>-0.1947</td>\n",
       "      <td>30</td>\n",
       "      <td>1</td>\n",
       "    </tr>\n",
       "    <tr>\n",
       "      <th>32</th>\n",
       "      <td>City of London</td>\n",
       "      <td>E09000001</td>\n",
       "      <td>774</td>\n",
       "      <td>4</td>\n",
       "      <td>42.6</td>\n",
       "      <td>30.3</td>\n",
       "      <td>11.4</td>\n",
       "      <td>27.5</td>\n",
       "      <td>975</td>\n",
       "      <td>63620</td>\n",
       "      <td>799999</td>\n",
       "      <td>64.6</td>\n",
       "      <td>51.5155</td>\n",
       "      <td>-0.0922</td>\n",
       "      <td>30</td>\n",
       "      <td>1</td>\n",
       "    </tr>\n",
       "  </tbody>\n",
       "</table>\n",
       "</div>"
      ],
      "text/plain": [
       "                 Area_name       Code  Total_case  Deaths_total  Deaths_rate  \\\n",
       "18  Kensington and Chelsea  E09000020         533           124         95.2   \n",
       "32          City of London  E09000001         774             4         42.6   \n",
       "\n",
       "   Population_density_(per_hectare)_2017  \\\n",
       "18                                 131.1   \n",
       "32                                  30.3   \n",
       "\n",
       "    Proportion_of_population_aged_0-15,_2015  \\\n",
       "18                                      16.4   \n",
       "32                                      11.4   \n",
       "\n",
       "   %_of_population_from_BAME_groups_(2016)  \\\n",
       "18                                      30   \n",
       "32                                    27.5   \n",
       "\n",
       "   Overseas_nationals_entering_the_UK_(NINo),_(2015/16)  \\\n",
       "18                                              7,237     \n",
       "32                                                975     \n",
       "\n",
       "    Modelled_Household_median_income_estimates_2012/13  \\\n",
       "18                                              55620    \n",
       "32                                              63620    \n",
       "\n",
       "   Median_House_Price,_2015  Employment_rate_(%)_(2015) Latitude Longitude  \\\n",
       "18                  1200000                        68.2   51.502   -0.1947   \n",
       "32                   799999                        64.6  51.5155   -0.0922   \n",
       "\n",
       "    Hospital  classification  \n",
       "18        30               1  \n",
       "32        30               1  "
      ]
     },
     "execution_count": 21,
     "metadata": {},
     "output_type": "execute_result"
    }
   ],
   "source": [
    "df_final.loc[df_final['classification'] == 1]"
   ]
  },
  {
   "cell_type": "markdown",
   "metadata": {},
   "source": [
    "Factor Analysis\n",
    "\n",
    "Given the weak structure of our data in clustering, we move on to factor analysis to identify a possible set of underlying variables for the observed data. However, before that we carry out two test to ensure the suitability of the data."
   ]
  },
  {
   "cell_type": "code",
   "execution_count": 22,
   "metadata": {},
   "outputs": [
    {
     "data": {
      "text/plain": [
       "(311.41694870017494, 7.122345184415977e-38)"
      ]
     },
     "execution_count": 22,
     "metadata": {},
     "output_type": "execute_result"
    }
   ],
   "source": [
    "from factor_analyzer.factor_analyzer import calculate_bartlett_sphericity\n",
    "chi_square_value,p_value=calculate_bartlett_sphericity(features_fa)\n",
    "chi_square_value, p_value"
   ]
  },
  {
   "cell_type": "code",
   "execution_count": 23,
   "metadata": {},
   "outputs": [
    {
     "name": "stderr",
     "output_type": "stream",
     "text": [
      "/home/shem/anaconda3/lib/python3.8/site-packages/factor_analyzer/utils.py:248: UserWarning: The inverse of the variance-covariance matrix was calculated using the Moore-Penrose generalized matrix inversion, due to its determinant being at or very close to zero.\n",
      "  warnings.warn('The inverse of the variance-covariance matrix '\n"
     ]
    },
    {
     "data": {
      "text/plain": [
       "0.67765742409689"
      ]
     },
     "execution_count": 23,
     "metadata": {},
     "output_type": "execute_result"
    }
   ],
   "source": [
    "from factor_analyzer.factor_analyzer import calculate_kmo\n",
    "kmo_all,kmo_model=calculate_kmo(features_fa)\n",
    "kmo_model"
   ]
  },
  {
   "cell_type": "markdown",
   "metadata": {},
   "source": [
    "The KMO value at ~0.65 is fairly decent, while the p-value for Bartlett's test is highly significant. We move on to obtaining a scree plot to identify the number of factors to use."
   ]
  },
  {
   "cell_type": "code",
   "execution_count": 24,
   "metadata": {},
   "outputs": [
    {
     "data": {
      "image/png": "[encoded data removed]",
      "text/plain": [
       "<Figure size 432x288 with 1 Axes>"
      ]
     },
     "metadata": {
      "needs_background": "light"
     },
     "output_type": "display_data"
    }
   ],
   "source": [
    "from factor_analyzer import FactorAnalyzer\n",
    "\n",
    "fa = FactorAnalyzer()\n",
    "fa.fit(features_fa, 25)\n",
    "\n",
    "ev, v = fa.get_eigenvalues()\n",
    "\n",
    "# Create scree plot using matplotlib\n",
    "plt.figure(figsize=(6,4))\n",
    "plt.scatter(range(1,features_fa.shape[1]+1),ev)\n",
    "plt.plot(range(1,features_fa.shape[1]+1),ev)\n",
    "plt.hlines(1, 0, features_fa.shape[1], colors='r')\n",
    "plt.title('Scree Plot')\n",
    "plt.xlabel('Factors')\n",
    "plt.ylabel('Eigenvalue')\n",
    "plt.grid()\n",
    "plt.show()"
   ]
  },
  {
   "cell_type": "markdown",
   "metadata": {},
   "source": [
    "The usual cut-off used is to identify factors with an eigenvalues of greater than 1, as this indicates that the factor accounts for at least as much variance as a single variable. The factors at k=3 also confirms with our own theoretical intuition that the variables are broadly classified into such categories."
   ]
  },
  {
   "cell_type": "markdown",
   "metadata": {},
   "source": [
    "Next, we carry out the analysis, using the default method of MINRES (similar to the standard OLS method for factor extraction) and we specify to use the common varimax rotation."
   ]
  },
  {
   "cell_type": "code",
   "execution_count": 31,
   "metadata": {},
   "outputs": [],
   "source": [
    "fa = FactorAnalyzer()\n",
    "fa.set_params(n_factors=3, rotation=\"varimax\")\n",
    "fa.fit(features_fa,25)\n",
    "loadings = pd.DataFrame(fa.loadings_)\n",
    "loadings.rename(columns = lambda x: 'Factor-' + str(x + 1), inplace=True)\n",
    "loadings.index = df_fa.columns"
   ]
  },
  {
   "cell_type": "code",
   "execution_count": 32,
   "metadata": {},
   "outputs": [
    {
     "data": {
      "text/html": [
       "<div>\n",
       "<style scoped>\n",
       "    .dataframe tbody tr th:only-of-type {\n",
       "        vertical-align: middle;\n",
       "    }\n",
       "\n",
       "    .dataframe tbody tr th {\n",
       "        vertical-align: top;\n",
       "    }\n",
       "\n",
       "    .dataframe thead th {\n",
       "        text-align: right;\n",
       "    }\n",
       "</style>\n",
       "<table border=\"1\" class=\"dataframe\">\n",
       "  <thead>\n",
       "    <tr style=\"text-align: right;\">\n",
       "      <th></th>\n",
       "      <th>Factor-1</th>\n",
       "      <th>Factor-2</th>\n",
       "      <th>Factor-3</th>\n",
       "    </tr>\n",
       "  </thead>\n",
       "  <tbody>\n",
       "    <tr>\n",
       "      <th>Total_case</th>\n",
       "      <td>0.148974</td>\n",
       "      <td>-0.110044</td>\n",
       "      <td>0.948953</td>\n",
       "    </tr>\n",
       "    <tr>\n",
       "      <th>Deaths_total</th>\n",
       "      <td>0.395125</td>\n",
       "      <td>-0.020667</td>\n",
       "      <td>0.841894</td>\n",
       "    </tr>\n",
       "    <tr>\n",
       "      <th>Deaths_rate</th>\n",
       "      <td>0.523983</td>\n",
       "      <td>0.557680</td>\n",
       "      <td>0.495837</td>\n",
       "    </tr>\n",
       "    <tr>\n",
       "      <th>Population_density_(per_hectare)_2017</th>\n",
       "      <td>-0.182313</td>\n",
       "      <td>0.756358</td>\n",
       "      <td>-0.196170</td>\n",
       "    </tr>\n",
       "    <tr>\n",
       "      <th>Proportion_of_population_aged_0-15,_2015</th>\n",
       "      <td>0.840170</td>\n",
       "      <td>-0.107072</td>\n",
       "      <td>0.180815</td>\n",
       "    </tr>\n",
       "    <tr>\n",
       "      <th>%_of_population_from_BAME_groups_(2016)</th>\n",
       "      <td>0.457884</td>\n",
       "      <td>0.609989</td>\n",
       "      <td>0.400495</td>\n",
       "    </tr>\n",
       "    <tr>\n",
       "      <th>Overseas_nationals_entering_the_UK_(NINo),_(2015/16)</th>\n",
       "      <td>0.274837</td>\n",
       "      <td>0.811123</td>\n",
       "      <td>0.376971</td>\n",
       "    </tr>\n",
       "    <tr>\n",
       "      <th>Modelled_Household_median_income_estimates_2012/13</th>\n",
       "      <td>-0.914954</td>\n",
       "      <td>-0.209183</td>\n",
       "      <td>-0.241749</td>\n",
       "    </tr>\n",
       "    <tr>\n",
       "      <th>Median_House_Price,_2015</th>\n",
       "      <td>-0.801844</td>\n",
       "      <td>0.321274</td>\n",
       "      <td>-0.277435</td>\n",
       "    </tr>\n",
       "    <tr>\n",
       "      <th>Employment_rate_(%)_(2015)</th>\n",
       "      <td>0.013777</td>\n",
       "      <td>-0.366926</td>\n",
       "      <td>0.070114</td>\n",
       "    </tr>\n",
       "    <tr>\n",
       "      <th>Hospital</th>\n",
       "      <td>-0.371474</td>\n",
       "      <td>0.595208</td>\n",
       "      <td>-0.036236</td>\n",
       "    </tr>\n",
       "  </tbody>\n",
       "</table>\n",
       "</div>"
      ],
      "text/plain": [
       "                                                    Factor-1  Factor-2  \\\n",
       "Total_case                                          0.148974 -0.110044   \n",
       "Deaths_total                                        0.395125 -0.020667   \n",
       "Deaths_rate                                         0.523983  0.557680   \n",
       "Population_density_(per_hectare)_2017              -0.182313  0.756358   \n",
       "Proportion_of_population_aged_0-15,_2015            0.840170 -0.107072   \n",
       "%_of_population_from_BAME_groups_(2016)             0.457884  0.609989   \n",
       "Overseas_nationals_entering_the_UK_(NINo),_(201...  0.274837  0.811123   \n",
       "Modelled_Household_median_income_estimates_2012/13 -0.914954 -0.209183   \n",
       "Median_House_Price,_2015                           -0.801844  0.321274   \n",
       "Employment_rate_(%)_(2015)                          0.013777 -0.366926   \n",
       "Hospital                                           -0.371474  0.595208   \n",
       "\n",
       "                                                    Factor-3  \n",
       "Total_case                                          0.948953  \n",
       "Deaths_total                                        0.841894  \n",
       "Deaths_rate                                         0.495837  \n",
       "Population_density_(per_hectare)_2017              -0.196170  \n",
       "Proportion_of_population_aged_0-15,_2015            0.180815  \n",
       "%_of_population_from_BAME_groups_(2016)             0.400495  \n",
       "Overseas_nationals_entering_the_UK_(NINo),_(201...  0.376971  \n",
       "Modelled_Household_median_income_estimates_2012/13 -0.241749  \n",
       "Median_House_Price,_2015                           -0.277435  \n",
       "Employment_rate_(%)_(2015)                          0.070114  \n",
       "Hospital                                           -0.036236  "
      ]
     },
     "execution_count": 32,
     "metadata": {},
     "output_type": "execute_result"
    }
   ],
   "source": [
    "loadings"
   ]
  },
  {
   "cell_type": "code",
   "execution_count": 35,
   "metadata": {},
   "outputs": [
    {
     "data": {
      "text/html": [
       "<div>\n",
       "<style scoped>\n",
       "    .dataframe tbody tr th:only-of-type {\n",
       "        vertical-align: middle;\n",
       "    }\n",
       "\n",
       "    .dataframe tbody tr th {\n",
       "        vertical-align: top;\n",
       "    }\n",
       "\n",
       "    .dataframe thead th {\n",
       "        text-align: right;\n",
       "    }\n",
       "</style>\n",
       "<table border=\"1\" class=\"dataframe\">\n",
       "  <thead>\n",
       "    <tr style=\"text-align: right;\">\n",
       "      <th></th>\n",
       "      <th>Factor-1</th>\n",
       "      <th>Factor-2</th>\n",
       "      <th>Factor-3</th>\n",
       "    </tr>\n",
       "  </thead>\n",
       "  <tbody>\n",
       "    <tr>\n",
       "      <th>Total_case</th>\n",
       "      <td>NaN</td>\n",
       "      <td>NaN</td>\n",
       "      <td>0.948953</td>\n",
       "    </tr>\n",
       "    <tr>\n",
       "      <th>Deaths_total</th>\n",
       "      <td>NaN</td>\n",
       "      <td>NaN</td>\n",
       "      <td>0.841894</td>\n",
       "    </tr>\n",
       "    <tr>\n",
       "      <th>Deaths_rate</th>\n",
       "      <td>0.523983</td>\n",
       "      <td>0.557680</td>\n",
       "      <td>0.495837</td>\n",
       "    </tr>\n",
       "    <tr>\n",
       "      <th>Population_density_(per_hectare)_2017</th>\n",
       "      <td>NaN</td>\n",
       "      <td>0.756358</td>\n",
       "      <td>NaN</td>\n",
       "    </tr>\n",
       "    <tr>\n",
       "      <th>Proportion_of_population_aged_0-15,_2015</th>\n",
       "      <td>0.840170</td>\n",
       "      <td>NaN</td>\n",
       "      <td>NaN</td>\n",
       "    </tr>\n",
       "    <tr>\n",
       "      <th>%_of_population_from_BAME_groups_(2016)</th>\n",
       "      <td>0.457884</td>\n",
       "      <td>0.609989</td>\n",
       "      <td>0.400495</td>\n",
       "    </tr>\n",
       "    <tr>\n",
       "      <th>Overseas_nationals_entering_the_UK_(NINo),_(2015/16)</th>\n",
       "      <td>NaN</td>\n",
       "      <td>0.811123</td>\n",
       "      <td>NaN</td>\n",
       "    </tr>\n",
       "    <tr>\n",
       "      <th>Modelled_Household_median_income_estimates_2012/13</th>\n",
       "      <td>-0.914954</td>\n",
       "      <td>NaN</td>\n",
       "      <td>NaN</td>\n",
       "    </tr>\n",
       "    <tr>\n",
       "      <th>Median_House_Price,_2015</th>\n",
       "      <td>-0.801844</td>\n",
       "      <td>NaN</td>\n",
       "      <td>NaN</td>\n",
       "    </tr>\n",
       "    <tr>\n",
       "      <th>Employment_rate_(%)_(2015)</th>\n",
       "      <td>NaN</td>\n",
       "      <td>NaN</td>\n",
       "      <td>NaN</td>\n",
       "    </tr>\n",
       "    <tr>\n",
       "      <th>Hospital</th>\n",
       "      <td>NaN</td>\n",
       "      <td>0.595208</td>\n",
       "      <td>NaN</td>\n",
       "    </tr>\n",
       "  </tbody>\n",
       "</table>\n",
       "</div>"
      ],
      "text/plain": [
       "                                                    Factor-1  Factor-2  \\\n",
       "Total_case                                               NaN       NaN   \n",
       "Deaths_total                                             NaN       NaN   \n",
       "Deaths_rate                                         0.523983  0.557680   \n",
       "Population_density_(per_hectare)_2017                    NaN  0.756358   \n",
       "Proportion_of_population_aged_0-15,_2015            0.840170       NaN   \n",
       "%_of_population_from_BAME_groups_(2016)             0.457884  0.609989   \n",
       "Overseas_nationals_entering_the_UK_(NINo),_(201...       NaN  0.811123   \n",
       "Modelled_Household_median_income_estimates_2012/13 -0.914954       NaN   \n",
       "Median_House_Price,_2015                           -0.801844       NaN   \n",
       "Employment_rate_(%)_(2015)                               NaN       NaN   \n",
       "Hospital                                                 NaN  0.595208   \n",
       "\n",
       "                                                    Factor-3  \n",
       "Total_case                                          0.948953  \n",
       "Deaths_total                                        0.841894  \n",
       "Deaths_rate                                         0.495837  \n",
       "Population_density_(per_hectare)_2017                    NaN  \n",
       "Proportion_of_population_aged_0-15,_2015                 NaN  \n",
       "%_of_population_from_BAME_groups_(2016)             0.400495  \n",
       "Overseas_nationals_entering_the_UK_(NINo),_(201...       NaN  \n",
       "Modelled_Household_median_income_estimates_2012/13       NaN  \n",
       "Median_House_Price,_2015                                 NaN  \n",
       "Employment_rate_(%)_(2015)                               NaN  \n",
       "Hospital                                                 NaN  "
      ]
     },
     "execution_count": 35,
     "metadata": {},
     "output_type": "execute_result"
    }
   ],
   "source": [
    "segments = loadings[loadings >= 0.4].fillna(loadings[loadings <= -0.4])\n",
    "segments"
   ]
  },
  {
   "cell_type": "markdown",
   "metadata": {},
   "source": [
    "We classify the 3 factors based on the variables identified within each factor. Broadly, they are: Socio-Economic, Socio-Demographic, and COVID-19 factors."
   ]
  },
  {
   "cell_type": "code",
   "execution_count": 34,
   "metadata": {},
   "outputs": [
    {
     "data": {
      "text/html": [
       "<div>\n",
       "<style scoped>\n",
       "    .dataframe tbody tr th:only-of-type {\n",
       "        vertical-align: middle;\n",
       "    }\n",
       "\n",
       "    .dataframe tbody tr th {\n",
       "        vertical-align: top;\n",
       "    }\n",
       "\n",
       "    .dataframe thead th {\n",
       "        text-align: right;\n",
       "    }\n",
       "</style>\n",
       "<table border=\"1\" class=\"dataframe\">\n",
       "  <thead>\n",
       "    <tr style=\"text-align: right;\">\n",
       "      <th></th>\n",
       "      <th>0</th>\n",
       "      <th>1</th>\n",
       "      <th>2</th>\n",
       "    </tr>\n",
       "  </thead>\n",
       "  <tbody>\n",
       "    <tr>\n",
       "      <th>Variance</th>\n",
       "      <td>3.095470</td>\n",
       "      <td>2.572976</td>\n",
       "      <td>2.370473</td>\n",
       "    </tr>\n",
       "    <tr>\n",
       "      <th>Proportional Var</th>\n",
       "      <td>0.281406</td>\n",
       "      <td>0.233907</td>\n",
       "      <td>0.215498</td>\n",
       "    </tr>\n",
       "    <tr>\n",
       "      <th>Cumulative Var</th>\n",
       "      <td>0.281406</td>\n",
       "      <td>0.515313</td>\n",
       "      <td>0.730811</td>\n",
       "    </tr>\n",
       "  </tbody>\n",
       "</table>\n",
       "</div>"
      ],
      "text/plain": [
       "                         0         1         2\n",
       "Variance          3.095470  2.572976  2.370473\n",
       "Proportional Var  0.281406  0.233907  0.215498\n",
       "Cumulative Var    0.281406  0.515313  0.730811"
      ]
     },
     "execution_count": 34,
     "metadata": {},
     "output_type": "execute_result"
    }
   ],
   "source": [
    "pd.DataFrame(fa.get_factor_variance(),index=['Variance','Proportional Var','Cumulative Var'])"
   ]
  },
  {
   "cell_type": "markdown",
   "metadata": {},
   "source": [
    "To conclude, we check the variance explained from the 3 factors. Altogether, they explain 73% of the variance, which is a good portion."
   ]
  },
  {
   "cell_type": "markdown",
   "metadata": {},
   "source": [
    "# Results and Discussion <a name=\"results\"></a>"
   ]
  },
  {
   "cell_type": "markdown",
   "metadata": {},
   "source": [
    "London, as a region of nearly 10 million people, contains a varied and heterogenous population. In our dataset containing a broad mix of different socio-economic and demographics data, across the 33 areas of London, we hoped to caputure, to a certain extent, the heterogeneity of the different areas, and thus be able to provide a description of firstly, the heterogeneities between the boroughs, and secondly, to extract the underlying factors that described these heterogeneities. These two issues were tackled with our cluster analysis and factor analysis respectively.\n",
    "\n",
    "Our cluster analysis results indicated to us that it was possible to classify the boroughs into 9 different clusters, which were, unsurprisingly, strongly spatially dependent as can be seen from our map. We expect that areas which are closer together would exhibit similar characteristics, and hence, be classified into similar clusters. \n",
    "\n",
    "Our factor analysis result indicated to us that variables could broadly be classified into 3 different factors, which further confirms our theoretical classificaiton of the variables, and these are broadly, socio-economic, socio-demographic and COVID-19 related data. \n",
    "\n",
    "For further analysis, we recommend the usage of more comprehensive socio-economic data, and the integration of temporal data, which would allow us to observe the evolution of these heterogeneity over time. Due to our limited resources, we were not able to carry out such analysis in this project."
   ]
  },
  {
   "cell_type": "markdown",
   "metadata": {},
   "source": [
    "# Conclusion <a name=\"conclusion\"></a>"
   ]
  },
  {
   "cell_type": "markdown",
   "metadata": {},
   "source": [
    "Our analysis provided both cluster and factor analysis on a broad dataset in London. Given our usage of current COVID-19 data, we hope this will support and inform businesses and policy-makers in their decisions."
   ]
  }
 ],
 "metadata": {
  "kernelspec": {
   "display_name": "Python 3",
   "language": "python",
   "name": "python3"
  },
  "language_info": {
   "codemirror_mode": {
    "name": "ipython",
    "version": 3
   },
   "file_extension": ".py",
   "mimetype": "text/x-python",
   "name": "python",
   "nbconvert_exporter": "python",
   "pygments_lexer": "ipython3",
   "version": "3.8.3"
  }
 },
 "nbformat": 4,
 "nbformat_minor": 4
}
